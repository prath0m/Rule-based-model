{
 "cells": [
  {
   "cell_type": "code",
   "execution_count": 1,
   "metadata": {},
   "outputs": [
    {
     "name": "stdout",
     "output_type": "stream",
     "text": [
      "Collecting zxcvbn\n",
      "  Downloading zxcvbn-4.5.0-py2.py3-none-any.whl.metadata (5.9 kB)\n",
      "Downloading zxcvbn-4.5.0-py2.py3-none-any.whl (409 kB)\n",
      "Installing collected packages: zxcvbn\n",
      "Successfully installed zxcvbn-4.5.0\n",
      "Note: you may need to restart the kernel to use updated packages.\n"
     ]
    },
    {
     "name": "stderr",
     "output_type": "stream",
     "text": [
      "WARNING: Ignoring invalid distribution -ediapipe (c:\\users\\prathamesh kale\\appdata\\local\\programs\\python\\python39\\lib\\site-packages)\n",
      "WARNING: Ignoring invalid distribution -ediapipe (c:\\users\\prathamesh kale\\appdata\\local\\programs\\python\\python39\\lib\\site-packages)\n",
      "WARNING: Ignoring invalid distribution -ediapipe (c:\\users\\prathamesh kale\\appdata\\local\\programs\\python\\python39\\lib\\site-packages)\n"
     ]
    }
   ],
   "source": [
    "pip install zxcvbn\n"
   ]
  },
  {
   "cell_type": "code",
   "execution_count": 6,
   "metadata": {},
   "outputs": [
    {
     "name": "stdout",
     "output_type": "stream",
     "text": [
      "4\n",
      "{'online_throttling_100_per_hour': 'centuries', 'online_no_throttling_10_per_second': 'centuries', 'offline_slow_hashing_1e4_per_second': '2 months', 'offline_fast_hashing_1e10_per_second': '6 seconds'}\n"
     ]
    }
   ],
   "source": [
    "from zxcvbn import zxcvbn\n",
    "\n",
    "results = zxcvbn('5uMM3r#2024*Q')\n",
    "print(results['score'])  # Strength score (0-4)\n",
    "print(results['crack_times_display'])  # Realistic time-to-crack estimate\n"
   ]
  },
  {
   "cell_type": "code",
   "execution_count": null,
   "metadata": {},
   "outputs": [],
   "source": []
  },
  {
   "cell_type": "code",
   "execution_count": 3,
   "metadata": {},
   "outputs": [
    {
     "name": "stdout",
     "output_type": "stream",
     "text": [
      "Collecting password_strength\n",
      "  Downloading password_strength-0.0.3.post2-py2.py3-none-any.whl.metadata (10 kB)\n",
      "Requirement already satisfied: six in c:\\users\\prathamesh kale\\appdata\\roaming\\python\\python39\\site-packages (from password_strength) (1.16.0)\n",
      "Downloading password_strength-0.0.3.post2-py2.py3-none-any.whl (12 kB)\n",
      "Installing collected packages: password_strength\n",
      "Successfully installed password_strength-0.0.3.post2\n",
      "Note: you may need to restart the kernel to use updated packages.\n"
     ]
    },
    {
     "name": "stderr",
     "output_type": "stream",
     "text": [
      "WARNING: Ignoring invalid distribution -ediapipe (c:\\users\\prathamesh kale\\appdata\\local\\programs\\python\\python39\\lib\\site-packages)\n",
      "  DEPRECATION: Wheel filename 'password_strength-0.0.1_1-py2-none-any.whl' is not correctly normalised. Future versions of pip will raise the following error:\n",
      "  Invalid wheel filename (invalid version): 'password_strength-0.0.1_1-py2-none-any'\n",
      "  \n",
      "   pip 25.1 will enforce this behaviour change. A possible replacement is to rename the wheel to use a correctly normalised name (this may require updating the version in the project metadata). Discussion can be found at https://github.com/pypa/pip/issues/12938\n",
      "  DEPRECATION: Wheel filename 'password_strength-0.0.2_0-py2-none-any.whl' is not correctly normalised. Future versions of pip will raise the following error:\n",
      "  Invalid wheel filename (invalid version): 'password_strength-0.0.2_0-py2-none-any'\n",
      "  \n",
      "   pip 25.1 will enforce this behaviour change. A possible replacement is to rename the wheel to use a correctly normalised name (this may require updating the version in the project metadata). Discussion can be found at https://github.com/pypa/pip/issues/12938\n",
      "WARNING: Ignoring invalid distribution -ediapipe (c:\\users\\prathamesh kale\\appdata\\local\\programs\\python\\python39\\lib\\site-packages)\n",
      "WARNING: Ignoring invalid distribution -ediapipe (c:\\users\\prathamesh kale\\appdata\\local\\programs\\python\\python39\\lib\\site-packages)\n"
     ]
    }
   ],
   "source": [
    "pip install password_strength"
   ]
  },
  {
   "cell_type": "code",
   "execution_count": 2,
   "metadata": {},
   "outputs": [
    {
     "name": "stdout",
     "output_type": "stream",
     "text": [
      "0.4477342876197212\n",
      "36.541209043760986\n"
     ]
    }
   ],
   "source": [
    "from password_strength import PasswordStats\n",
    "\n",
    "stats = PasswordStats('Hksb&97Vgsj')\n",
    "print(stats.strength())  # 0 (weak) to 1 (strong)\n",
    "print(stats.entropy_bits)  # entropy score\n"
   ]
  },
  {
   "cell_type": "code",
   "execution_count": 3,
   "metadata": {},
   "outputs": [
    {
     "name": "stdout",
     "output_type": "stream",
     "text": [
      "\n",
      "🔐 Password Strength Analysis 🔐\n",
      "Your Password: pratham\n",
      "Strength Level: 🟡 Fair (2/4)\n",
      "\n",
      "⏱️ Estimated Time-to-Crack:\n",
      "  - 🚦 Online Attack (throttled): 11 years\n",
      "  - ⚡ Online Attack (unthrottled): 12 days\n",
      "  - 🐢 Offline Attack (slow hashing): 17 minutes\n",
      "  - 🚀 Offline Attack (fast hashing): less than a second\n",
      "\n",
      "💡 Suggestions for Improvement:\n",
      "  • Add another word or two. Uncommon words are better.\n"
     ]
    }
   ],
   "source": [
    "from zxcvbn import zxcvbn\n",
    "\n",
    "def display_custom_strength_report(password):\n",
    "    results = zxcvbn(password)\n",
    "    score = results['score']\n",
    "    crack_times = results['crack_times_display']\n",
    "    feedback = results['feedback']\n",
    "\n",
    "    strength_levels = {\n",
    "        0: \"🔴 Very Weak\",\n",
    "        1: \"🟠 Weak\",\n",
    "        2: \"🟡 Fair\",\n",
    "        3: \"🟢 Strong\",\n",
    "        4: \"🔵 Very Strong\"\n",
    "    }\n",
    "\n",
    "    print(\"\\n🔐 Password Strength Analysis 🔐\")\n",
    "    print(f\"Your Password: {password}\")\n",
    "    print(f\"Strength Level: {strength_levels[score]} ({score}/4)\\n\")\n",
    "\n",
    "    print(\"⏱️ Estimated Time-to-Crack:\")\n",
    "    print(f\"  - 🚦 Online Attack (throttled): {crack_times['online_throttling_100_per_hour']}\")\n",
    "    print(f\"  - ⚡ Online Attack (unthrottled): {crack_times['online_no_throttling_10_per_second']}\")\n",
    "    print(f\"  - 🐢 Offline Attack (slow hashing): {crack_times['offline_slow_hashing_1e4_per_second']}\")\n",
    "    print(f\"  - 🚀 Offline Attack (fast hashing): {crack_times['offline_fast_hashing_1e10_per_second']}\\n\")\n",
    "\n",
    "    if feedback['suggestions']:\n",
    "        print(\"💡 Suggestions for Improvement:\")\n",
    "        for suggestion in feedback['suggestions']:\n",
    "            print(f\"  • {suggestion}\")\n",
    "    else:\n",
    "        print(\"🎉 Great! No suggestions needed. Your password is strong!\")\n",
    "\n",
    "    if feedback['warning']:\n",
    "        print(f\"\\n⚠️ Warning: {feedback['warning']}\")\n",
    "\n",
    "# Example usage\n",
    "display_custom_strength_report('pratham')\n"
   ]
  }
 ],
 "metadata": {
  "kernelspec": {
   "display_name": "Python 3",
   "language": "python",
   "name": "python3"
  },
  "language_info": {
   "codemirror_mode": {
    "name": "ipython",
    "version": 3
   },
   "file_extension": ".py",
   "mimetype": "text/x-python",
   "name": "python",
   "nbconvert_exporter": "python",
   "pygments_lexer": "ipython3",
   "version": "3.9.13"
  }
 },
 "nbformat": 4,
 "nbformat_minor": 2
}
